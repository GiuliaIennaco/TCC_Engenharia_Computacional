{
 "cells": [
  {
   "cell_type": "markdown",
   "id": "e01fee7a-22a7-40f8-8c4e-91d278ece788",
   "metadata": {},
   "source": [
    "Importa as bibliotecas"
   ]
  },
  {
   "cell_type": "code",
   "execution_count": 1,
   "id": "860ec887-8a34-440b-bc4e-80e252017558",
   "metadata": {},
   "outputs": [],
   "source": [
    "import pandas as pd\n",
    "import glob\n"
   ]
  },
  {
   "cell_type": "markdown",
   "id": "fb2eac9d-6836-4165-912a-f3cc2bd012a0",
   "metadata": {},
   "source": [
    "Define as colunas a serem processadas"
   ]
  },
  {
   "cell_type": "code",
   "execution_count": null,
   "id": "89a97801-8aed-4fe0-a342-561a65bac7d5",
   "metadata": {},
   "outputs": [],
   "source": [
    "colunas_para_media = [\n",
    "    'dhi_pyr', 'ghi_pyr', 'air_temperature', \n",
    "    'relative_humidity', 'barometric_pressure', 'precipitation'\n",
    "]"
   ]
  },
  {
   "cell_type": "markdown",
   "id": "a47db285-b57b-4041-9f4c-24fe2343bfaf",
   "metadata": {},
   "source": [
    "Lê todos os arquivos CSV e transforma em um dataframe"
   ]
  },
  {
   "cell_type": "code",
   "execution_count": null,
   "id": "70cae819-8404-4276-a6cc-069427044140",
   "metadata": {},
   "outputs": [],
   "source": [
    "file_paths = glob.glob(\"../Datasets/Região Ocidental/*.csv\")\n",
    "dataframes = [pd.read_csv(f) for f in file_paths]\n",
    "\n"
   ]
  },
  {
   "cell_type": "code",
   "execution_count": null,
   "id": "0525a127-ea4c-4dfc-958a-76517ad78109",
   "metadata": {},
   "outputs": [],
   "source": [
    "\n",
    "if dataframes:\n",
    "    # Ccombina os dataframes em um único\n",
    "    df_combinado = pd.concat(dataframes, ignore_index=True)\n",
    "    \n",
    "    # Converte a coluna 'time' em datetime\n",
    "    df_combinado['time'] = pd.to_datetime(df_combinado['time'], errors='coerce')\n",
    "    df_combinado.dropna(subset=['time'], inplace=True)\n",
    "\n",
    "    # Verifica se todos os valores são realmente numéricos\n",
    "    df_combinado[colunas_para_media] = df_combinado[colunas_para_media].apply(pd.to_numeric, errors='coerce')\n",
    "\n",
    "    # Normaliza os valores, transformando valores negativos de dhi_pyr e ghi_pyr para 0\n",
    "    df_combinado[['dhi_pyr', 'ghi_pyr']] = df_combinado[['dhi_pyr', 'ghi_pyr']].clip(lower=0)\n",
    "\n",
    "    # Se 'dhi_rsi' existe e não é 0, pega a média com 'dhi_pyr'\n",
    "    if 'dhi_rsi' in df_combinado.columns:\n",
    "        df_combinado['dhi_pyr'] = df_combinado.apply(\n",
    "            lambda row: (row['dhi_pyr'] + row['dhi_rsi']) / 2 if row['dhi_rsi'] > 0 else row['dhi_pyr'], \n",
    "            axis=1\n",
    "        )\n",
    "\n",
    "    # Agrupo por timestamp e pega a média\n",
    "    df_final = df_combinado.groupby('time')[colunas_para_media].mean().reset_index()\n",
    "\n",
    "    # Salva os valores em um dataframe\n",
    "    df_final.to_csv(\"cleaned_data.csv\", index=False)\n",
    "    \n",
    "    print(\"Data cleaning and normalization complete. Saved as 'cleaned_data.csv'.\")\n",
    "else:\n",
    "    print(\"Nenhum arquivo CSV encontrado para ser processado.\")"
   ]
  }
 ],
 "metadata": {
  "kernelspec": {
   "display_name": "Python 3 (ipykernel)",
   "language": "python",
   "name": "python3"
  },
  "language_info": {
   "codemirror_mode": {
    "name": "ipython",
    "version": 3
   },
   "file_extension": ".py",
   "mimetype": "text/x-python",
   "name": "python",
   "nbconvert_exporter": "python",
   "pygments_lexer": "ipython3",
   "version": "3.12.6"
  }
 },
 "nbformat": 4,
 "nbformat_minor": 5
}
