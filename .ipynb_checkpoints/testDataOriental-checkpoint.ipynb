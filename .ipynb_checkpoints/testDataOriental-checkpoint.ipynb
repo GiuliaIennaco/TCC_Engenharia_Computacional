{
 "cells": [
  {
   "cell_type": "code",
   "execution_count": 1,
   "id": "40f50bc3",
   "metadata": {},
   "outputs": [],
   "source": [
    "# Import necessary libraries\n",
    "import pandas as pd\n",
    "from sklearn.model_selection import train_test_split, GridSearchCV\n",
    "from sklearn.ensemble import RandomForestRegressor\n",
    "from sklearn.metrics import mean_absolute_error, r2_score\n",
    "from sklearn.preprocessing import StandardScaler, LabelEncoder\n",
    "from sklearn import datasets, metrics\n",
    "from mealpy.bio_based import SMA #trocar por hho\n",
    "import numpy as np"
   ]
  },
  {
   "cell_type": "code",
   "execution_count": 2,
   "id": "93c6f4db",
   "metadata": {},
   "outputs": [
    {
     "data": {
      "text/html": [
       "<div>\n",
       "<style scoped>\n",
       "    .dataframe tbody tr th:only-of-type {\n",
       "        vertical-align: middle;\n",
       "    }\n",
       "\n",
       "    .dataframe tbody tr th {\n",
       "        vertical-align: top;\n",
       "    }\n",
       "\n",
       "    .dataframe thead th {\n",
       "        text-align: right;\n",
       "    }\n",
       "</style>\n",
       "<table border=\"1\" class=\"dataframe\">\n",
       "  <thead>\n",
       "    <tr style=\"text-align: right;\">\n",
       "      <th></th>\n",
       "      <th>time</th>\n",
       "      <th>dhi_pyr</th>\n",
       "      <th>ghi_pyr</th>\n",
       "      <th>air_temperature</th>\n",
       "      <th>relative_humidity</th>\n",
       "      <th>barometric_pressure</th>\n",
       "      <th>precipitation</th>\n",
       "    </tr>\n",
       "  </thead>\n",
       "  <tbody>\n",
       "    <tr>\n",
       "      <th>0</th>\n",
       "      <td>2016-01-10 00:00:00</td>\n",
       "      <td>0.0</td>\n",
       "      <td>0.0</td>\n",
       "      <td>26.716667</td>\n",
       "      <td>93.900000</td>\n",
       "      <td>1011.0</td>\n",
       "      <td>0.0</td>\n",
       "    </tr>\n",
       "    <tr>\n",
       "      <th>1</th>\n",
       "      <td>2016-01-10 00:01:00</td>\n",
       "      <td>0.0</td>\n",
       "      <td>0.0</td>\n",
       "      <td>26.723333</td>\n",
       "      <td>93.833333</td>\n",
       "      <td>1011.0</td>\n",
       "      <td>0.0</td>\n",
       "    </tr>\n",
       "    <tr>\n",
       "      <th>2</th>\n",
       "      <td>2016-01-10 00:02:00</td>\n",
       "      <td>0.0</td>\n",
       "      <td>0.0</td>\n",
       "      <td>26.720000</td>\n",
       "      <td>93.600000</td>\n",
       "      <td>1011.0</td>\n",
       "      <td>0.0</td>\n",
       "    </tr>\n",
       "    <tr>\n",
       "      <th>3</th>\n",
       "      <td>2016-01-10 00:03:00</td>\n",
       "      <td>0.0</td>\n",
       "      <td>0.0</td>\n",
       "      <td>26.720000</td>\n",
       "      <td>93.566667</td>\n",
       "      <td>1011.0</td>\n",
       "      <td>0.0</td>\n",
       "    </tr>\n",
       "    <tr>\n",
       "      <th>4</th>\n",
       "      <td>2016-01-10 00:04:00</td>\n",
       "      <td>0.0</td>\n",
       "      <td>0.0</td>\n",
       "      <td>26.733333</td>\n",
       "      <td>93.700000</td>\n",
       "      <td>1011.0</td>\n",
       "      <td>0.0</td>\n",
       "    </tr>\n",
       "    <tr>\n",
       "      <th>...</th>\n",
       "      <td>...</td>\n",
       "      <td>...</td>\n",
       "      <td>...</td>\n",
       "      <td>...</td>\n",
       "      <td>...</td>\n",
       "      <td>...</td>\n",
       "      <td>...</td>\n",
       "    </tr>\n",
       "    <tr>\n",
       "      <th>1356475</th>\n",
       "      <td>2023-12-05 23:56:00</td>\n",
       "      <td>0.0</td>\n",
       "      <td>0.0</td>\n",
       "      <td>24.800000</td>\n",
       "      <td>92.700000</td>\n",
       "      <td>1011.0</td>\n",
       "      <td>0.0</td>\n",
       "    </tr>\n",
       "    <tr>\n",
       "      <th>1356476</th>\n",
       "      <td>2023-12-05 23:57:00</td>\n",
       "      <td>0.0</td>\n",
       "      <td>0.0</td>\n",
       "      <td>24.800000</td>\n",
       "      <td>92.700000</td>\n",
       "      <td>1011.0</td>\n",
       "      <td>0.0</td>\n",
       "    </tr>\n",
       "    <tr>\n",
       "      <th>1356477</th>\n",
       "      <td>2023-12-05 23:58:00</td>\n",
       "      <td>0.0</td>\n",
       "      <td>0.0</td>\n",
       "      <td>24.700000</td>\n",
       "      <td>92.600000</td>\n",
       "      <td>1011.0</td>\n",
       "      <td>0.0</td>\n",
       "    </tr>\n",
       "    <tr>\n",
       "      <th>1356478</th>\n",
       "      <td>2023-12-05 23:59:00</td>\n",
       "      <td>0.0</td>\n",
       "      <td>0.0</td>\n",
       "      <td>24.700000</td>\n",
       "      <td>92.600000</td>\n",
       "      <td>1011.0</td>\n",
       "      <td>0.0</td>\n",
       "    </tr>\n",
       "    <tr>\n",
       "      <th>1356479</th>\n",
       "      <td>2023-12-06 00:00:00</td>\n",
       "      <td>0.0</td>\n",
       "      <td>0.0</td>\n",
       "      <td>24.900000</td>\n",
       "      <td>93.000000</td>\n",
       "      <td>1013.0</td>\n",
       "      <td>0.0</td>\n",
       "    </tr>\n",
       "  </tbody>\n",
       "</table>\n",
       "<p>1356480 rows × 7 columns</p>\n",
       "</div>"
      ],
      "text/plain": [
       "                        time  dhi_pyr  ghi_pyr  air_temperature   \n",
       "0        2016-01-10 00:00:00      0.0      0.0        26.716667  \\\n",
       "1        2016-01-10 00:01:00      0.0      0.0        26.723333   \n",
       "2        2016-01-10 00:02:00      0.0      0.0        26.720000   \n",
       "3        2016-01-10 00:03:00      0.0      0.0        26.720000   \n",
       "4        2016-01-10 00:04:00      0.0      0.0        26.733333   \n",
       "...                      ...      ...      ...              ...   \n",
       "1356475  2023-12-05 23:56:00      0.0      0.0        24.800000   \n",
       "1356476  2023-12-05 23:57:00      0.0      0.0        24.800000   \n",
       "1356477  2023-12-05 23:58:00      0.0      0.0        24.700000   \n",
       "1356478  2023-12-05 23:59:00      0.0      0.0        24.700000   \n",
       "1356479  2023-12-06 00:00:00      0.0      0.0        24.900000   \n",
       "\n",
       "         relative_humidity  barometric_pressure  precipitation  \n",
       "0                93.900000               1011.0            0.0  \n",
       "1                93.833333               1011.0            0.0  \n",
       "2                93.600000               1011.0            0.0  \n",
       "3                93.566667               1011.0            0.0  \n",
       "4                93.700000               1011.0            0.0  \n",
       "...                    ...                  ...            ...  \n",
       "1356475          92.700000               1011.0            0.0  \n",
       "1356476          92.700000               1011.0            0.0  \n",
       "1356477          92.600000               1011.0            0.0  \n",
       "1356478          92.600000               1011.0            0.0  \n",
       "1356479          93.000000               1013.0            0.0  \n",
       "\n",
       "[1356480 rows x 7 columns]"
      ]
     },
     "execution_count": 2,
     "metadata": {},
     "output_type": "execute_result"
    }
   ],
   "source": [
    "# Step 1: Load the CSV file\n",
    "df = pd.read_csv('ocidental_data.csv')\n",
    "df"
   ]
  },
  {
   "cell_type": "code",
   "execution_count": 3,
   "id": "0be75e0d",
   "metadata": {},
   "outputs": [],
   "source": [
    "# Step 2: Preprocess the data\n",
    "# Filter the necessary columns for input and target variables\n",
    "df = df[['time', 'air_temperature', 'relative_humidity', 'dhi_pyr']]"
   ]
  },
  {
   "cell_type": "code",
   "execution_count": 4,
   "id": "8fdd53e8",
   "metadata": {},
   "outputs": [
    {
     "name": "stderr",
     "output_type": "stream",
     "text": [
      "C:\\Users\\Giuli\\AppData\\Local\\Temp\\ipykernel_16228\\2585636722.py:2: SettingWithCopyWarning: \n",
      "A value is trying to be set on a copy of a slice from a DataFrame\n",
      "\n",
      "See the caveats in the documentation: https://pandas.pydata.org/pandas-docs/stable/user_guide/indexing.html#returning-a-view-versus-a-copy\n",
      "  df.dropna(subset=['air_temperature', 'relative_humidity', 'dhi_pyr'], inplace=True)\n",
      "C:\\Users\\Giuli\\AppData\\Local\\Temp\\ipykernel_16228\\2585636722.py:4: SettingWithCopyWarning: \n",
      "A value is trying to be set on a copy of a slice from a DataFrame.\n",
      "Try using .loc[row_indexer,col_indexer] = value instead\n",
      "\n",
      "See the caveats in the documentation: https://pandas.pydata.org/pandas-docs/stable/user_guide/indexing.html#returning-a-view-versus-a-copy\n",
      "  df.time = pd.to_datetime(df['time'])\n"
     ]
    },
    {
     "data": {
      "text/html": [
       "<div>\n",
       "<style scoped>\n",
       "    .dataframe tbody tr th:only-of-type {\n",
       "        vertical-align: middle;\n",
       "    }\n",
       "\n",
       "    .dataframe tbody tr th {\n",
       "        vertical-align: top;\n",
       "    }\n",
       "\n",
       "    .dataframe thead th {\n",
       "        text-align: right;\n",
       "    }\n",
       "</style>\n",
       "<table border=\"1\" class=\"dataframe\">\n",
       "  <thead>\n",
       "    <tr style=\"text-align: right;\">\n",
       "      <th></th>\n",
       "      <th>time</th>\n",
       "      <th>air_temperature</th>\n",
       "      <th>relative_humidity</th>\n",
       "      <th>dhi_pyr</th>\n",
       "    </tr>\n",
       "  </thead>\n",
       "  <tbody>\n",
       "    <tr>\n",
       "      <th>360</th>\n",
       "      <td>2016-01-10 06:00:00</td>\n",
       "      <td>25.033333</td>\n",
       "      <td>98.833333</td>\n",
       "      <td>0.0</td>\n",
       "    </tr>\n",
       "    <tr>\n",
       "      <th>361</th>\n",
       "      <td>2016-01-10 06:01:00</td>\n",
       "      <td>25.030000</td>\n",
       "      <td>98.800000</td>\n",
       "      <td>0.0</td>\n",
       "    </tr>\n",
       "    <tr>\n",
       "      <th>362</th>\n",
       "      <td>2016-01-10 06:02:00</td>\n",
       "      <td>25.020000</td>\n",
       "      <td>98.866667</td>\n",
       "      <td>0.0</td>\n",
       "    </tr>\n",
       "    <tr>\n",
       "      <th>363</th>\n",
       "      <td>2016-01-10 06:03:00</td>\n",
       "      <td>25.010000</td>\n",
       "      <td>98.900000</td>\n",
       "      <td>0.0</td>\n",
       "    </tr>\n",
       "    <tr>\n",
       "      <th>364</th>\n",
       "      <td>2016-01-10 06:04:00</td>\n",
       "      <td>25.006667</td>\n",
       "      <td>98.900000</td>\n",
       "      <td>0.0</td>\n",
       "    </tr>\n",
       "    <tr>\n",
       "      <th>...</th>\n",
       "      <td>...</td>\n",
       "      <td>...</td>\n",
       "      <td>...</td>\n",
       "      <td>...</td>\n",
       "    </tr>\n",
       "    <tr>\n",
       "      <th>1356175</th>\n",
       "      <td>2023-12-05 18:56:00</td>\n",
       "      <td>27.900000</td>\n",
       "      <td>84.600000</td>\n",
       "      <td>0.5</td>\n",
       "    </tr>\n",
       "    <tr>\n",
       "      <th>1356176</th>\n",
       "      <td>2023-12-05 18:57:00</td>\n",
       "      <td>27.900000</td>\n",
       "      <td>85.000000</td>\n",
       "      <td>0.0</td>\n",
       "    </tr>\n",
       "    <tr>\n",
       "      <th>1356177</th>\n",
       "      <td>2023-12-05 18:58:00</td>\n",
       "      <td>27.800000</td>\n",
       "      <td>85.500000</td>\n",
       "      <td>0.0</td>\n",
       "    </tr>\n",
       "    <tr>\n",
       "      <th>1356178</th>\n",
       "      <td>2023-12-05 18:59:00</td>\n",
       "      <td>27.700000</td>\n",
       "      <td>85.900000</td>\n",
       "      <td>0.0</td>\n",
       "    </tr>\n",
       "    <tr>\n",
       "      <th>1356179</th>\n",
       "      <td>2023-12-05 19:00:00</td>\n",
       "      <td>27.600000</td>\n",
       "      <td>86.500000</td>\n",
       "      <td>0.0</td>\n",
       "    </tr>\n",
       "  </tbody>\n",
       "</table>\n",
       "<p>735702 rows × 4 columns</p>\n",
       "</div>"
      ],
      "text/plain": [
       "                       time  air_temperature  relative_humidity  dhi_pyr\n",
       "360     2016-01-10 06:00:00        25.033333          98.833333      0.0\n",
       "361     2016-01-10 06:01:00        25.030000          98.800000      0.0\n",
       "362     2016-01-10 06:02:00        25.020000          98.866667      0.0\n",
       "363     2016-01-10 06:03:00        25.010000          98.900000      0.0\n",
       "364     2016-01-10 06:04:00        25.006667          98.900000      0.0\n",
       "...                     ...              ...                ...      ...\n",
       "1356175 2023-12-05 18:56:00        27.900000          84.600000      0.5\n",
       "1356176 2023-12-05 18:57:00        27.900000          85.000000      0.0\n",
       "1356177 2023-12-05 18:58:00        27.800000          85.500000      0.0\n",
       "1356178 2023-12-05 18:59:00        27.700000          85.900000      0.0\n",
       "1356179 2023-12-05 19:00:00        27.600000          86.500000      0.0\n",
       "\n",
       "[735702 rows x 4 columns]"
      ]
     },
     "execution_count": 4,
     "metadata": {},
     "output_type": "execute_result"
    }
   ],
   "source": [
    "# Drop rows with missing values in the relevant columns\n",
    "df.dropna(subset=['air_temperature', 'relative_humidity', 'dhi_pyr'], inplace=True)\n",
    "\n",
    "df.time = pd.to_datetime(df['time'])\n",
    "df.time\n",
    "\n",
    "clean_df = df[df.time.dt.strftime('%H:%M').between('06:00','19:00')]\n",
    "df = clean_df\n",
    "df\n"
   ]
  },
  {
   "cell_type": "code",
   "execution_count": 5,
   "id": "bfc4cbab",
   "metadata": {},
   "outputs": [],
   "source": [
    "# Step 3: Prepare the input features (X) and target variable (y)\n",
    "X = df[['air_temperature', 'relative_humidity']]  # Features\n",
    "y = df['dhi_pyr']  # Target\n",
    "\n"
   ]
  },
  {
   "cell_type": "code",
   "execution_count": 6,
   "id": "875f1325",
   "metadata": {},
   "outputs": [],
   "source": [
    "# Step 4: Split the data into training and testing sets (80% train, 20% test)\n",
    "X_train, X_test, y_train, y_test = train_test_split(X, y, test_size=0.2, random_state=42)"
   ]
  },
  {
   "cell_type": "code",
   "execution_count": 7,
   "id": "8b716852",
   "metadata": {},
   "outputs": [],
   "source": [
    "sc = StandardScaler()\n",
    "sc.fit(X_train)\n",
    "X_train_std = sc.transform(X_train)\n",
    "X_test_std = sc.transform(X_test)"
   ]
  },
  {
   "cell_type": "code",
   "execution_count": 8,
   "id": "a949adaa",
   "metadata": {},
   "outputs": [
    {
     "data": {
      "text/html": [
       "<style>#sk-container-id-1 {color: black;background-color: white;}#sk-container-id-1 pre{padding: 0;}#sk-container-id-1 div.sk-toggleable {background-color: white;}#sk-container-id-1 label.sk-toggleable__label {cursor: pointer;display: block;width: 100%;margin-bottom: 0;padding: 0.3em;box-sizing: border-box;text-align: center;}#sk-container-id-1 label.sk-toggleable__label-arrow:before {content: \"▸\";float: left;margin-right: 0.25em;color: #696969;}#sk-container-id-1 label.sk-toggleable__label-arrow:hover:before {color: black;}#sk-container-id-1 div.sk-estimator:hover label.sk-toggleable__label-arrow:before {color: black;}#sk-container-id-1 div.sk-toggleable__content {max-height: 0;max-width: 0;overflow: hidden;text-align: left;background-color: #f0f8ff;}#sk-container-id-1 div.sk-toggleable__content pre {margin: 0.2em;color: black;border-radius: 0.25em;background-color: #f0f8ff;}#sk-container-id-1 input.sk-toggleable__control:checked~div.sk-toggleable__content {max-height: 200px;max-width: 100%;overflow: auto;}#sk-container-id-1 input.sk-toggleable__control:checked~label.sk-toggleable__label-arrow:before {content: \"▾\";}#sk-container-id-1 div.sk-estimator input.sk-toggleable__control:checked~label.sk-toggleable__label {background-color: #d4ebff;}#sk-container-id-1 div.sk-label input.sk-toggleable__control:checked~label.sk-toggleable__label {background-color: #d4ebff;}#sk-container-id-1 input.sk-hidden--visually {border: 0;clip: rect(1px 1px 1px 1px);clip: rect(1px, 1px, 1px, 1px);height: 1px;margin: -1px;overflow: hidden;padding: 0;position: absolute;width: 1px;}#sk-container-id-1 div.sk-estimator {font-family: monospace;background-color: #f0f8ff;border: 1px dotted black;border-radius: 0.25em;box-sizing: border-box;margin-bottom: 0.5em;}#sk-container-id-1 div.sk-estimator:hover {background-color: #d4ebff;}#sk-container-id-1 div.sk-parallel-item::after {content: \"\";width: 100%;border-bottom: 1px solid gray;flex-grow: 1;}#sk-container-id-1 div.sk-label:hover label.sk-toggleable__label {background-color: #d4ebff;}#sk-container-id-1 div.sk-serial::before {content: \"\";position: absolute;border-left: 1px solid gray;box-sizing: border-box;top: 0;bottom: 0;left: 50%;z-index: 0;}#sk-container-id-1 div.sk-serial {display: flex;flex-direction: column;align-items: center;background-color: white;padding-right: 0.2em;padding-left: 0.2em;position: relative;}#sk-container-id-1 div.sk-item {position: relative;z-index: 1;}#sk-container-id-1 div.sk-parallel {display: flex;align-items: stretch;justify-content: center;background-color: white;position: relative;}#sk-container-id-1 div.sk-item::before, #sk-container-id-1 div.sk-parallel-item::before {content: \"\";position: absolute;border-left: 1px solid gray;box-sizing: border-box;top: 0;bottom: 0;left: 50%;z-index: -1;}#sk-container-id-1 div.sk-parallel-item {display: flex;flex-direction: column;z-index: 1;position: relative;background-color: white;}#sk-container-id-1 div.sk-parallel-item:first-child::after {align-self: flex-end;width: 50%;}#sk-container-id-1 div.sk-parallel-item:last-child::after {align-self: flex-start;width: 50%;}#sk-container-id-1 div.sk-parallel-item:only-child::after {width: 0;}#sk-container-id-1 div.sk-dashed-wrapped {border: 1px dashed gray;margin: 0 0.4em 0.5em 0.4em;box-sizing: border-box;padding-bottom: 0.4em;background-color: white;}#sk-container-id-1 div.sk-label label {font-family: monospace;font-weight: bold;display: inline-block;line-height: 1.2em;}#sk-container-id-1 div.sk-label-container {text-align: center;}#sk-container-id-1 div.sk-container {/* jupyter's `normalize.less` sets `[hidden] { display: none; }` but bootstrap.min.css set `[hidden] { display: none !important; }` so we also need the `!important` here to be able to override the default hidden behavior on the sphinx rendered scikit-learn.org. See: https://github.com/scikit-learn/scikit-learn/issues/21755 */display: inline-block !important;position: relative;}#sk-container-id-1 div.sk-text-repr-fallback {display: none;}</style><div id=\"sk-container-id-1\" class=\"sk-top-container\"><div class=\"sk-text-repr-fallback\"><pre>LabelEncoder()</pre><b>In a Jupyter environment, please rerun this cell to show the HTML representation or trust the notebook. <br />On GitHub, the HTML representation is unable to render, please try loading this page with nbviewer.org.</b></div><div class=\"sk-container\" hidden><div class=\"sk-item\"><div class=\"sk-estimator sk-toggleable\"><input class=\"sk-toggleable__control sk-hidden--visually\" id=\"sk-estimator-id-1\" type=\"checkbox\" checked><label for=\"sk-estimator-id-1\" class=\"sk-toggleable__label sk-toggleable__label-arrow\">LabelEncoder</label><div class=\"sk-toggleable__content\"><pre>LabelEncoder()</pre></div></div></div></div></div>"
      ],
      "text/plain": [
       "LabelEncoder()"
      ]
     },
     "execution_count": 8,
     "metadata": {},
     "output_type": "execute_result"
    }
   ],
   "source": [
    "KERNEL_ENCODER = LabelEncoder()\n",
    "KERNEL_ENCODER.fit(['linear', 'poly', 'rbf', 'sigmoid'])"
   ]
  },
  {
   "cell_type": "code",
   "execution_count": 9,
   "id": "7a1ed315",
   "metadata": {},
   "outputs": [
    {
     "data": {
      "text/html": [
       "<style>#sk-container-id-2 {color: black;background-color: white;}#sk-container-id-2 pre{padding: 0;}#sk-container-id-2 div.sk-toggleable {background-color: white;}#sk-container-id-2 label.sk-toggleable__label {cursor: pointer;display: block;width: 100%;margin-bottom: 0;padding: 0.3em;box-sizing: border-box;text-align: center;}#sk-container-id-2 label.sk-toggleable__label-arrow:before {content: \"▸\";float: left;margin-right: 0.25em;color: #696969;}#sk-container-id-2 label.sk-toggleable__label-arrow:hover:before {color: black;}#sk-container-id-2 div.sk-estimator:hover label.sk-toggleable__label-arrow:before {color: black;}#sk-container-id-2 div.sk-toggleable__content {max-height: 0;max-width: 0;overflow: hidden;text-align: left;background-color: #f0f8ff;}#sk-container-id-2 div.sk-toggleable__content pre {margin: 0.2em;color: black;border-radius: 0.25em;background-color: #f0f8ff;}#sk-container-id-2 input.sk-toggleable__control:checked~div.sk-toggleable__content {max-height: 200px;max-width: 100%;overflow: auto;}#sk-container-id-2 input.sk-toggleable__control:checked~label.sk-toggleable__label-arrow:before {content: \"▾\";}#sk-container-id-2 div.sk-estimator input.sk-toggleable__control:checked~label.sk-toggleable__label {background-color: #d4ebff;}#sk-container-id-2 div.sk-label input.sk-toggleable__control:checked~label.sk-toggleable__label {background-color: #d4ebff;}#sk-container-id-2 input.sk-hidden--visually {border: 0;clip: rect(1px 1px 1px 1px);clip: rect(1px, 1px, 1px, 1px);height: 1px;margin: -1px;overflow: hidden;padding: 0;position: absolute;width: 1px;}#sk-container-id-2 div.sk-estimator {font-family: monospace;background-color: #f0f8ff;border: 1px dotted black;border-radius: 0.25em;box-sizing: border-box;margin-bottom: 0.5em;}#sk-container-id-2 div.sk-estimator:hover {background-color: #d4ebff;}#sk-container-id-2 div.sk-parallel-item::after {content: \"\";width: 100%;border-bottom: 1px solid gray;flex-grow: 1;}#sk-container-id-2 div.sk-label:hover label.sk-toggleable__label {background-color: #d4ebff;}#sk-container-id-2 div.sk-serial::before {content: \"\";position: absolute;border-left: 1px solid gray;box-sizing: border-box;top: 0;bottom: 0;left: 50%;z-index: 0;}#sk-container-id-2 div.sk-serial {display: flex;flex-direction: column;align-items: center;background-color: white;padding-right: 0.2em;padding-left: 0.2em;position: relative;}#sk-container-id-2 div.sk-item {position: relative;z-index: 1;}#sk-container-id-2 div.sk-parallel {display: flex;align-items: stretch;justify-content: center;background-color: white;position: relative;}#sk-container-id-2 div.sk-item::before, #sk-container-id-2 div.sk-parallel-item::before {content: \"\";position: absolute;border-left: 1px solid gray;box-sizing: border-box;top: 0;bottom: 0;left: 50%;z-index: -1;}#sk-container-id-2 div.sk-parallel-item {display: flex;flex-direction: column;z-index: 1;position: relative;background-color: white;}#sk-container-id-2 div.sk-parallel-item:first-child::after {align-self: flex-end;width: 50%;}#sk-container-id-2 div.sk-parallel-item:last-child::after {align-self: flex-start;width: 50%;}#sk-container-id-2 div.sk-parallel-item:only-child::after {width: 0;}#sk-container-id-2 div.sk-dashed-wrapped {border: 1px dashed gray;margin: 0 0.4em 0.5em 0.4em;box-sizing: border-box;padding-bottom: 0.4em;background-color: white;}#sk-container-id-2 div.sk-label label {font-family: monospace;font-weight: bold;display: inline-block;line-height: 1.2em;}#sk-container-id-2 div.sk-label-container {text-align: center;}#sk-container-id-2 div.sk-container {/* jupyter's `normalize.less` sets `[hidden] { display: none; }` but bootstrap.min.css set `[hidden] { display: none !important; }` so we also need the `!important` here to be able to override the default hidden behavior on the sphinx rendered scikit-learn.org. See: https://github.com/scikit-learn/scikit-learn/issues/21755 */display: inline-block !important;position: relative;}#sk-container-id-2 div.sk-text-repr-fallback {display: none;}</style><div id=\"sk-container-id-2\" class=\"sk-top-container\"><div class=\"sk-text-repr-fallback\"><pre>RandomForestRegressor(random_state=42)</pre><b>In a Jupyter environment, please rerun this cell to show the HTML representation or trust the notebook. <br />On GitHub, the HTML representation is unable to render, please try loading this page with nbviewer.org.</b></div><div class=\"sk-container\" hidden><div class=\"sk-item\"><div class=\"sk-estimator sk-toggleable\"><input class=\"sk-toggleable__control sk-hidden--visually\" id=\"sk-estimator-id-2\" type=\"checkbox\" checked><label for=\"sk-estimator-id-2\" class=\"sk-toggleable__label sk-toggleable__label-arrow\">RandomForestRegressor</label><div class=\"sk-toggleable__content\"><pre>RandomForestRegressor(random_state=42)</pre></div></div></div></div></div>"
      ],
      "text/plain": [
       "RandomForestRegressor(random_state=42)"
      ]
     },
     "execution_count": 9,
     "metadata": {},
     "output_type": "execute_result"
    }
   ],
   "source": [
    "# Step 5: Initialize and train the Random Forest model\n",
    "rf_model = RandomForestRegressor(n_estimators=100, random_state=42)\n",
    "rf_model.fit(X_train_std, y_train.values.ravel())\n",
    "\n"
   ]
  },
  {
   "cell_type": "code",
   "execution_count": 10,
   "id": "d999e294",
   "metadata": {},
   "outputs": [],
   "source": [
    "from sklearn.model_selection import cross_val_score\n",
    "from sklearn.model_selection import cross_validate\n",
    "def fitness_function(solution, flg = None):\n",
    "    # if kernel belongs to 0 - 0.99 ==> 0       ==> linear\n",
    "    #                       2 - 2.99 ==> 2\n",
    "    #                       3 - 3.99 ==> 3      ==> sigmoid\n",
    "\n",
    "#     kernel_encoded = round(solution[0])\n",
    "#     c = solution[1]\n",
    "#     kernel_decoded = KERNEL_ENCODER.inverse_transform([kernel_encoded])[0]\n",
    "\n",
    "#     svc = SVC(C=c, random_state=1, kernel=kernel_decoded, max_iter=100)\n",
    "    rfr = RandomForestRegressor(max_depth = round(solution[1]), n_estimators=round(solution[0]))\n",
    "    # Fit the model\n",
    "#     svc.fit(X_train_std, y_train.values.ravel())\n",
    "    # Make the predictions\n",
    "#     y_predict = svc.predict(X_test_std)\n",
    "    if(flg == 'run'):\n",
    "        rfr.fit(X_train_std, y_train.values.ravel())\n",
    "        return rfr\n",
    "    # Measure the performance\n",
    "#     x_print = cross_val_score(rfr, X_train_std, y_train.values.ravel(), cv=3).mean()\n",
    "    accuracy = cross_validate(rfr, X_train_std, y_train.values.ravel(), cv=5, scoring='max_error', error_score='raise')\n",
    "    result = np.array(accuracy['test_score']).mean()\n",
    "    return abs(result)\n",
    "\n",
    "problem = {\n",
    "    \"fit_func\": fitness_function,\n",
    "    \"lb\": [  1,  11],\n",
    "    \"ub\": [500, 50],\n",
    "    \"minmax\": \"min\",\n",
    "}"
   ]
  },
  {
   "cell_type": "code",
   "execution_count": 11,
   "id": "3e3acc4e",
   "metadata": {},
   "outputs": [
    {
     "data": {
      "text/plain": [
       "461.55471887506"
      ]
     },
     "execution_count": 11,
     "metadata": {},
     "output_type": "execute_result"
    }
   ],
   "source": [
    "fitness_function([20, 10])"
   ]
  },
  {
   "cell_type": "code",
   "execution_count": null,
   "id": "119ae1e3",
   "metadata": {},
   "outputs": [
    {
     "name": "stderr",
     "output_type": "stream",
     "text": [
      "2024/10/19 02:16:52 AM, INFO, mealpy.bio_based.SMA.BaseSMA: Solving single objective optimization problem.\n"
     ]
    }
   ],
   "source": [
    "model = SMA.BaseSMA(epoch=5, pop_size=20)\n",
    "model.solve(problem)\n",
    "print(f\"Best solution: {model.solution[0]}\")\n",
    "# print(f\"Best kernel: {KERNEL_ENCODER.inverse_transform([int(model.solution[0][0])])[0]}, Best c: {model.solution[0][1]}\")\n",
    "\n",
    "print(f\"Best accuracy: {model.solution[1]}\")"
   ]
  },
  {
   "cell_type": "code",
   "execution_count": null,
   "id": "9b147a0b",
   "metadata": {},
   "outputs": [],
   "source": [
    "melhor_modelo = fitness_function(model.solution[0], flg='run')\n",
    "y_pred = melhor_modelo.predict(X_test_std)"
   ]
  },
  {
   "cell_type": "code",
   "execution_count": null,
   "id": "34460c41",
   "metadata": {},
   "outputs": [],
   "source": [
    "# import pylab as plt\n",
    "import matplotlib.pyplot as plt\n",
    "\n",
    "plt.figure(dpi=150)\n",
    "\n",
    "plt.plot(y_test, y_test, 'k-')\n",
    "plt.plot(y_test, y_pred, 'b.')\n",
    "\n",
    "plt.show()"
   ]
  },
  {
   "cell_type": "code",
   "execution_count": null,
   "id": "8f2c86c1",
   "metadata": {},
   "outputs": [],
   "source": [
    "model.solution"
   ]
  },
  {
   "cell_type": "code",
   "execution_count": null,
   "id": "5c4ef2cc",
   "metadata": {},
   "outputs": [],
   "source": [
    "# # Step 6: Make predictions on the test set\n",
    "# y_pred = rf_model.predict(X_test_std)\n",
    "# x_print = metrics.r2_score(y_test.values.ravel(), y_predict)\n",
    "# print(x_print)\n"
   ]
  },
  {
   "cell_type": "code",
   "execution_count": null,
   "id": "250e81b9",
   "metadata": {},
   "outputs": [],
   "source": [
    "# # Step 7: Evaluate the model\n",
    "# mae = mean_absolute_error(y_test, y_pred)\n",
    "# r2 = r2_score(y_test, y_pred)\n",
    "\n",
    "# print(f\"Mean Absolute Error (MAE): {mae:.2f}\")\n",
    "# print(f\"R-squared (R2): {r2:.2f}\")"
   ]
  },
  {
   "cell_type": "code",
   "execution_count": null,
   "id": "29fb57a7",
   "metadata": {},
   "outputs": [],
   "source": []
  }
 ],
 "metadata": {
  "kernelspec": {
   "display_name": "Python 3 (ipykernel)",
   "language": "python",
   "name": "python3"
  },
  "language_info": {
   "codemirror_mode": {
    "name": "ipython",
    "version": 3
   },
   "file_extension": ".py",
   "mimetype": "text/x-python",
   "name": "python",
   "nbconvert_exporter": "python",
   "pygments_lexer": "ipython3",
   "version": "3.11.9"
  }
 },
 "nbformat": 4,
 "nbformat_minor": 5
}
